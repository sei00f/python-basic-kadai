{
  "nbformat": 4,
  "nbformat_minor": 0,
  "metadata": {
    "colab": {
      "provenance": [],
      "authorship_tag": "ABX9TyPm6/ls6gXjUov8OLghxJ5W",
      "include_colab_link": true
    },
    "kernelspec": {
      "name": "python3",
      "display_name": "Python 3"
    },
    "language_info": {
      "name": "python"
    }
  },
  "cells": [
    {
      "cell_type": "markdown",
      "metadata": {
        "id": "view-in-github",
        "colab_type": "text"
      },
      "source": [
        "<a href=\"https://colab.research.google.com/github/sei00f/python-basic-kadai/blob/main/kadai_013.ipynb\" target=\"_parent\"><img src=\"https://colab.research.google.com/assets/colab-badge.svg\" alt=\"Open In Colab\"/></a>"
      ]
    },
    {
      "cell_type": "code",
      "execution_count": 14,
      "metadata": {
        "id": "QjLT9f-Q9WRR"
      },
      "outputs": [],
      "source": [
        "def calculate_total(price, taxrate):\n",
        "    total = price * (1 + taxrate)\n",
        "    return total\n",
        "\n",
        "result = calculate_total(1000, 0.1)\n",
        "print(f\"{result}円\")"
      ]
    }
  ]
}