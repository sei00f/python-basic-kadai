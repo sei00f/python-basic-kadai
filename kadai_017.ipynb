{
  "nbformat": 4,
  "nbformat_minor": 0,
  "metadata": {
    "colab": {
      "provenance": [],
      "authorship_tag": "ABX9TyOWuz4r4UQqekMIdrV7qEWF",
      "include_colab_link": true
    },
    "kernelspec": {
      "name": "python3",
      "display_name": "Python 3"
    },
    "language_info": {
      "name": "python"
    }
  },
  "cells": [
    {
      "cell_type": "markdown",
      "metadata": {
        "id": "view-in-github",
        "colab_type": "text"
      },
      "source": [
        "<a href=\"https://colab.research.google.com/github/sei00f/python-basic-kadai/blob/main/kadai_017.ipynb\" target=\"_parent\"><img src=\"https://colab.research.google.com/assets/colab-badge.svg\" alt=\"Open In Colab\"/></a>"
      ]
    },
    {
      "cell_type": "code",
      "source": [
        "#main\n",
        "class Human:\n",
        "    def __init__(self, name, age):\n",
        "        self.name = name\n",
        "        self.age = age\n",
        "\n",
        "    def check_adult(self):\n",
        "        if self.age >= 20:\n",
        "            return True\n",
        "        else:\n",
        "            return False\n",
        "\n",
        "# インスタンス化をリストにする\n",
        "#human = Human(name, age)を3回行う\n",
        "\n",
        "humans = [\n",
        "    Human(\"侍太郎\", 36),\n",
        "    Human(\"侍一郎\", 29),\n",
        "    Human(\"侍二郎\", 19)\n",
        "]\n",
        "\n",
        "# 各インスタンスのチェック\n",
        "for human in humans:\n",
        "    if human.check_adult():\n",
        "        print(f\"{human.name}は大人です\")\n",
        "    else:\n",
        "        print(f\"{human.name}は大人ではありません\")"
      ],
      "metadata": {
        "colab": {
          "base_uri": "https://localhost:8080/"
        },
        "id": "cPelgpNoX9c-",
        "outputId": "8c9268e9-3397-45e4-a8f7-71cd6cd0e4e8"
      },
      "execution_count": null,
      "outputs": [
        {
          "output_type": "stream",
          "name": "stdout",
          "text": [
            "侍太郎は大人です\n",
            "侍一郎は大人です\n",
            "侍二郎は大人ではありません\n"
          ]
        }
      ]
    },
    {
      "cell_type": "code",
      "source": [
        "class Human:\n",
        "    def __init__(self, name, age):\n",
        "        self.name = name\n",
        "        self.age = age\n",
        "\n",
        "    def check_adult(self):\n",
        "        if self.age >= 20:\n",
        "            print(f\"{self.name}は大人です\")\n",
        "        else:\n",
        "            print(f\"{self.name}は大人ではありません\")\n",
        "\n",
        "# インスタンス化をリストにする\n",
        "#human = Human(name, age)を3回行う\n",
        "\n",
        "humans = [\n",
        "    Human(\"侍太郎\", 36),\n",
        "    Human(\"侍一郎\", 29),\n",
        "    Human(\"侍二郎\", 19)\n",
        "]\n",
        "\n",
        "# 各インスタンスのチェック\n",
        "for human in humans:\n",
        "    human.check_adult()"
      ],
      "metadata": {
        "colab": {
          "base_uri": "https://localhost:8080/"
        },
        "id": "zxSO1Vfsc2kI",
        "outputId": "76ca1610-a078-4820-edcc-6c0777d5510d"
      },
      "execution_count": 19,
      "outputs": [
        {
          "output_type": "stream",
          "name": "stdout",
          "text": [
            "侍太郎は大人です\n",
            "侍一郎は大人です\n",
            "侍二郎は大人ではありません\n"
          ]
        }
      ]
    }
  ]
}