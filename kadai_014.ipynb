{
  "nbformat": 4,
  "nbformat_minor": 0,
  "metadata": {
    "colab": {
      "provenance": [],
      "authorship_tag": "ABX9TyPNwneGm6qB0KOGw/4U4h4a",
      "include_colab_link": true
    },
    "kernelspec": {
      "name": "python3",
      "display_name": "Python 3"
    },
    "language_info": {
      "name": "python"
    }
  },
  "cells": [
    {
      "cell_type": "markdown",
      "metadata": {
        "id": "view-in-github",
        "colab_type": "text"
      },
      "source": [
        "<a href=\"https://colab.research.google.com/github/sei00f/python-basic-kadai/blob/main/kadai_014.ipynb\" target=\"_parent\"><img src=\"https://colab.research.google.com/assets/colab-badge.svg\" alt=\"Open In Colab\"/></a>"
      ]
    },
    {
      "cell_type": "code",
      "execution_count": 2,
      "metadata": {
        "colab": {
          "base_uri": "https://localhost:8080/"
        },
        "id": "rSr_M5spDadS",
        "outputId": "d6d8c388-8dfd-4547-8895-574ab9b76533"
      },
      "outputs": [
        {
          "output_type": "stream",
          "name": "stdout",
          "text": [
            "330.0\n"
          ]
        }
      ],
      "source": [
        "price1 = 100\n",
        "price2 = 200\n",
        "tax = 1.1   #taxはグローバルスコープ\n",
        "\n",
        "def total():\n",
        "    # tax = 1.1\n",
        "    return price1 + price2\n",
        "\n",
        "print(total() * tax)"
      ]
    }
  ]
}